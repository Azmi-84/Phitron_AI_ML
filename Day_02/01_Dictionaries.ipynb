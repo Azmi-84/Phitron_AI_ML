{
 "cells": [
  {
   "cell_type": "code",
   "execution_count": 26,
   "id": "2df2ba9d",
   "metadata": {},
   "outputs": [],
   "source": [
    "information = {\"Name\": \"VSCode\", \"System\": \"Linux\"}"
   ]
  },
  {
   "cell_type": "code",
   "execution_count": 27,
   "id": "1fd2eefc",
   "metadata": {},
   "outputs": [
    {
     "data": {
      "text/plain": [
       "{'Name': 'VSCode', 'System': 'Linux'}"
      ]
     },
     "execution_count": 27,
     "metadata": {},
     "output_type": "execute_result"
    }
   ],
   "source": [
    "information"
   ]
  },
  {
   "cell_type": "code",
   "execution_count": 28,
   "id": "6320619e",
   "metadata": {},
   "outputs": [],
   "source": [
    "information = {}\n",
    "information[\"Name\"] = \"Cursor\"\n",
    "information[\"System\"] = \"Linux\""
   ]
  },
  {
   "cell_type": "code",
   "execution_count": 29,
   "id": "35da7be7",
   "metadata": {},
   "outputs": [
    {
     "data": {
      "text/plain": [
       "{'Name': 'Cursor', 'System': 'Linux'}"
      ]
     },
     "execution_count": 29,
     "metadata": {},
     "output_type": "execute_result"
    }
   ],
   "source": [
    "information"
   ]
  },
  {
   "cell_type": "code",
   "execution_count": 30,
   "id": "ba29a99b",
   "metadata": {},
   "outputs": [],
   "source": [
    "information = dict(Name=\"Helix\", System=\"Linux\")"
   ]
  },
  {
   "cell_type": "code",
   "execution_count": 31,
   "id": "3a01dc3f",
   "metadata": {},
   "outputs": [
    {
     "data": {
      "text/plain": [
       "{'Name': 'Helix', 'System': 'Linux'}"
      ]
     },
     "execution_count": 31,
     "metadata": {},
     "output_type": "execute_result"
    }
   ],
   "source": [
    "information"
   ]
  },
  {
   "cell_type": "code",
   "execution_count": 32,
   "id": "89f7d0e3",
   "metadata": {},
   "outputs": [],
   "source": [
    "information = dict([(\"Name\", \"CodeBlock\"), (\"System\", \"Linux\")])"
   ]
  },
  {
   "cell_type": "code",
   "execution_count": 33,
   "id": "272579be",
   "metadata": {},
   "outputs": [
    {
     "data": {
      "text/plain": [
       "{'Name': 'CodeBlock', 'System': 'Linux'}"
      ]
     },
     "execution_count": 33,
     "metadata": {},
     "output_type": "execute_result"
    }
   ],
   "source": [
    "information"
   ]
  },
  {
   "cell_type": "code",
   "execution_count": 34,
   "id": "24780f47",
   "metadata": {},
   "outputs": [
    {
     "data": {
      "text/plain": [
       "'CodeBlock'"
      ]
     },
     "execution_count": 34,
     "metadata": {},
     "output_type": "execute_result"
    }
   ],
   "source": [
    "# Access value from a dictionary\n",
    "information[\"Name\"]"
   ]
  },
  {
   "cell_type": "code",
   "execution_count": 35,
   "id": "a9e88cfd",
   "metadata": {},
   "outputs": [
    {
     "data": {
      "text/plain": [
       "'CodeBlock'"
      ]
     },
     "execution_count": 35,
     "metadata": {},
     "output_type": "execute_result"
    }
   ],
   "source": [
    "information.get(\"Name\")"
   ]
  },
  {
   "cell_type": "code",
   "execution_count": 36,
   "id": "4ad46452",
   "metadata": {},
   "outputs": [],
   "source": [
    "# Adding, replacing and deleting values\n",
    "information = dict(Name=\"Helix\", System=\"Linux\")\n",
    "information[\"Name\"] = \"Jet Brain\""
   ]
  },
  {
   "cell_type": "code",
   "execution_count": 37,
   "id": "47676366",
   "metadata": {},
   "outputs": [
    {
     "data": {
      "text/plain": [
       "{'Name': 'Jet Brain', 'System': 'Linux'}"
      ]
     },
     "execution_count": 37,
     "metadata": {},
     "output_type": "execute_result"
    }
   ],
   "source": [
    "information"
   ]
  },
  {
   "cell_type": "code",
   "execution_count": 38,
   "id": "8725340c",
   "metadata": {},
   "outputs": [],
   "source": [
    "# Formating dictionaries\n",
    "information = dict(Name=\"Zed\", System=\"Linux\")\n",
    "\n",
    "text = \"This is %(Name)s for %(System)s system.\" % information"
   ]
  },
  {
   "cell_type": "code",
   "execution_count": 39,
   "id": "9f35b252",
   "metadata": {},
   "outputs": [
    {
     "data": {
      "text/plain": [
       "'This is Zed for Linux system.'"
      ]
     },
     "execution_count": 39,
     "metadata": {},
     "output_type": "execute_result"
    }
   ],
   "source": [
    "text"
   ]
  },
  {
   "cell_type": "code",
   "execution_count": 40,
   "id": "ddedc288",
   "metadata": {},
   "outputs": [],
   "source": [
    "# Deleting item using del operator\n",
    "information = dict(Name=\"Zed\", System=\"Linux\", Version=1.0, License=\"MIT\")\n",
    "del information[\"System\"]\n",
    "\n",
    "# we use del when we are sure that the key is present in the dictionary"
   ]
  },
  {
   "cell_type": "code",
   "execution_count": 41,
   "id": "b1105261",
   "metadata": {},
   "outputs": [
    {
     "data": {
      "text/plain": [
       "{'Name': 'Zed', 'Version': 1.0, 'License': 'MIT'}"
      ]
     },
     "execution_count": 41,
     "metadata": {},
     "output_type": "execute_result"
    }
   ],
   "source": [
    "information"
   ]
  },
  {
   "cell_type": "code",
   "execution_count": 42,
   "id": "a465c84a",
   "metadata": {},
   "outputs": [
    {
     "data": {
      "text/plain": [
       "1.0"
      ]
     },
     "execution_count": 42,
     "metadata": {},
     "output_type": "execute_result"
    }
   ],
   "source": [
    "information.pop(\"Version\")\n",
    "\n",
    "# we use pop when we are not sure that the key is present in the dictionary"
   ]
  },
  {
   "cell_type": "code",
   "execution_count": 44,
   "id": "7d9d7b8a",
   "metadata": {},
   "outputs": [
    {
     "data": {
      "text/plain": [
       "{'Name': 'Zed', 'License': 'MIT'}"
      ]
     },
     "execution_count": 44,
     "metadata": {},
     "output_type": "execute_result"
    }
   ],
   "source": [
    "information"
   ]
  },
  {
   "cell_type": "code",
   "execution_count": 45,
   "id": "ac273d8f",
   "metadata": {},
   "outputs": [],
   "source": [
    "# Comparing dictionaries\n",
    "\n",
    "information_one = dict(Name=\"Zed\", System=\"Linux\")\n",
    "information_two = dict(Name=\"Zed\", System=\"Linux\")"
   ]
  },
  {
   "cell_type": "code",
   "execution_count": 47,
   "id": "4a27c1a6",
   "metadata": {},
   "outputs": [
    {
     "data": {
      "text/plain": [
       "True"
      ]
     },
     "execution_count": 47,
     "metadata": {},
     "output_type": "execute_result"
    }
   ],
   "source": [
    "information_one == information_two"
   ]
  },
  {
   "cell_type": "code",
   "execution_count": 49,
   "id": "3f2b9ed6",
   "metadata": {},
   "outputs": [
    {
     "data": {
      "text/plain": [
       "False"
      ]
     },
     "execution_count": 49,
     "metadata": {},
     "output_type": "execute_result"
    }
   ],
   "source": [
    "information_one != information_two"
   ]
  },
  {
   "cell_type": "code",
   "execution_count": 52,
   "id": "84f1c497",
   "metadata": {},
   "outputs": [],
   "source": [
    "# Dictionary methods\n",
    "information = dict(Name=\"Cheme\", System=\"Linux\", Version=2.0, License=\"Apache\")"
   ]
  },
  {
   "cell_type": "code",
   "execution_count": 55,
   "id": "53ce73d7",
   "metadata": {},
   "outputs": [
    {
     "data": {
      "text/plain": [
       "dict_keys(['Name', 'System', 'Version', 'License'])"
      ]
     },
     "execution_count": 55,
     "metadata": {},
     "output_type": "execute_result"
    }
   ],
   "source": [
    "information.keys()"
   ]
  },
  {
   "cell_type": "code",
   "execution_count": 58,
   "id": "5e88406b",
   "metadata": {},
   "outputs": [
    {
     "data": {
      "text/plain": [
       "dict_values(['Cheme', 'Linux', 2.0, 'Apache'])"
      ]
     },
     "execution_count": 58,
     "metadata": {},
     "output_type": "execute_result"
    }
   ],
   "source": [
    "information.values()"
   ]
  },
  {
   "cell_type": "code",
   "execution_count": 60,
   "id": "d86d93e9",
   "metadata": {},
   "outputs": [
    {
     "data": {
      "text/plain": [
       "dict_items([('Name', 'Cheme'), ('System', 'Linux'), ('Version', 2.0), ('License', 'Apache')])"
      ]
     },
     "execution_count": 60,
     "metadata": {},
     "output_type": "execute_result"
    }
   ],
   "source": [
    "information.items()"
   ]
  },
  {
   "cell_type": "code",
   "execution_count": 3,
   "id": "78d9e777",
   "metadata": {},
   "outputs": [],
   "source": [
    "information = dict(Name=\"marimo\", System=\"Linux\", Version=1.0, License=\"GPL\")\n",
    "\n",
    "item = information.items()"
   ]
  },
  {
   "cell_type": "code",
   "execution_count": 7,
   "id": "07fc7cb3",
   "metadata": {},
   "outputs": [
    {
     "name": "stdout",
     "output_type": "stream",
     "text": [
      "<class 'dict_items'>\n",
      "('Name', 'marimo')\n",
      "<class 'tuple'>\n",
      "('System', 'Linux')\n",
      "<class 'tuple'>\n",
      "('Version', 1.0)\n",
      "<class 'tuple'>\n",
      "('License', 'GPL')\n",
      "<class 'tuple'>\n"
     ]
    }
   ],
   "source": [
    "print(type(item))\n",
    "\n",
    "for i in item:\n",
    "    print(i)\n",
    "    print(type(i))"
   ]
  },
  {
   "cell_type": "code",
   "execution_count": 11,
   "id": "522c7a92",
   "metadata": {},
   "outputs": [],
   "source": [
    "information.clear()"
   ]
  },
  {
   "cell_type": "code",
   "execution_count": 14,
   "id": "4fc967a2",
   "metadata": {},
   "outputs": [
    {
     "data": {
      "text/plain": [
       "{}"
      ]
     },
     "execution_count": 14,
     "metadata": {},
     "output_type": "execute_result"
    }
   ],
   "source": [
    "information"
   ]
  }
 ],
 "metadata": {
  "kernelspec": {
   "display_name": "phitron-ai-ml",
   "language": "python",
   "name": "python3"
  },
  "language_info": {
   "codemirror_mode": {
    "name": "ipython",
    "version": 3
   },
   "file_extension": ".py",
   "mimetype": "text/x-python",
   "name": "python",
   "nbconvert_exporter": "python",
   "pygments_lexer": "ipython3",
   "version": "3.14.0"
  }
 },
 "nbformat": 4,
 "nbformat_minor": 5
}
