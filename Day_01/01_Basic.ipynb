{
 "cells": [
  {
   "cell_type": "code",
   "execution_count": 1,
   "id": "73c37321",
   "metadata": {},
   "outputs": [
    {
     "name": "stdout",
     "output_type": "stream",
     "text": [
      "Hello World!\n",
      "I'm learning Python\n",
      "Python is a versatile language\n"
     ]
    }
   ],
   "source": [
    "print(\"Hello World!\")\n",
    "print(\"I'm learning Python\")\n",
    "print(\"Python is a versatile language\")"
   ]
  },
  {
   "cell_type": "code",
   "execution_count": 2,
   "id": "674fc677",
   "metadata": {},
   "outputs": [
    {
     "name": "stdout",
     "output_type": "stream",
     "text": [
      "Hello World! I'm learning Python. Python is a versatile language. "
     ]
    }
   ],
   "source": [
    "print(\"Hello World!\", end=\" \")\n",
    "print(\"I'm learning Python.\", end=\" \")\n",
    "print(\"Python is a versatile language.\", end=\" \")"
   ]
  },
  {
   "cell_type": "code",
   "execution_count": 3,
   "id": "5ee717e3",
   "metadata": {},
   "outputs": [],
   "source": [
    "a = 30\n",
    "b = 20\n",
    "\n",
    "a, b = b, a\n",
    "# a\n",
    "# b"
   ]
  },
  {
   "cell_type": "code",
   "execution_count": 4,
   "id": "94b7d132",
   "metadata": {},
   "outputs": [
    {
     "name": "stdout",
     "output_type": "stream",
     "text": [
      "The area of the rectangle is: 750329\n"
     ]
    }
   ],
   "source": [
    "length = int(input(\"Enter the length: \"))\n",
    "breadth = int(input(\"Enter the breadth: \"))\n",
    "area = length * breadth\n",
    "print(\"The area of the rectangle is:\", area)"
   ]
  },
  {
   "cell_type": "code",
   "execution_count": 5,
   "id": "0306e253",
   "metadata": {},
   "outputs": [
    {
     "name": "stdout",
     "output_type": "stream",
     "text": [
      "<class 'int'>\n",
      "<class 'str'>\n"
     ]
    }
   ],
   "source": [
    "# When using input function, the input is taken as a string by default. To convert it to an integer, we use the int() function. If we want to take float input, we can use the float() function.\n",
    "# To get a expected input, we can use eval() function. For example, if we want to take a list as input, we can use eval(input()).\n",
    "\n",
    "import string\n",
    "\n",
    "\n",
    "number = eval(input(\"Enter a number: \"))\n",
    "strings = input(\"Enter a string: \")\n",
    "\n",
    "print(type(number))\n",
    "print(type(strings))"
   ]
  },
  {
   "cell_type": "code",
   "execution_count": 6,
   "id": "deb1828d",
   "metadata": {},
   "outputs": [],
   "source": [
    "d = 34.44456968"
   ]
  },
  {
   "cell_type": "code",
   "execution_count": null,
   "id": "a8c2d739",
   "metadata": {},
   "outputs": [],
   "source": [
    "d = format(d, \".3f\")  # This will round the number to 3 decimal places"
   ]
  },
  {
   "cell_type": "code",
   "execution_count": 8,
   "id": "ad588d4c",
   "metadata": {},
   "outputs": [
    {
     "data": {
      "text/plain": [
       "'34.445'"
      ]
     },
     "execution_count": 8,
     "metadata": {},
     "output_type": "execute_result"
    }
   ],
   "source": [
    "d"
   ]
  },
  {
   "cell_type": "code",
   "execution_count": null,
   "id": "2d9b0130",
   "metadata": {},
   "outputs": [
    {
     "data": {
      "text/plain": [
       "str"
      ]
     },
     "execution_count": 13,
     "metadata": {},
     "output_type": "execute_result"
    }
   ],
   "source": [
    "type(d)"
   ]
  },
  {
   "cell_type": "code",
   "execution_count": null,
   "id": "66ee9c5f",
   "metadata": {},
   "outputs": [],
   "source": [
    "d = 34.44456968\n",
    "d = format(\n",
    "    d, \"7.3f\"\n",
    ")  # This will round the number to 3 decimal places and make the total length 7 by adding spaces in the front if necessary"
   ]
  },
  {
   "cell_type": "code",
   "execution_count": 16,
   "id": "1fa57e54",
   "metadata": {},
   "outputs": [
    {
     "data": {
      "text/plain": [
       "' 34.445'"
      ]
     },
     "execution_count": 16,
     "metadata": {},
     "output_type": "execute_result"
    }
   ],
   "source": [
    "d"
   ]
  },
  {
   "cell_type": "code",
   "execution_count": null,
   "id": "ac7aeb27",
   "metadata": {},
   "outputs": [],
   "source": [
    "x = 20.345123\n",
    "x = format(\n",
    "    x, \"<7.3f\"\n",
    ")  # This will round the number to 3 decimal places and make the total length 7 by adding spaces in the back if necessary"
   ]
  },
  {
   "cell_type": "code",
   "execution_count": 22,
   "id": "ad3c11a5",
   "metadata": {},
   "outputs": [
    {
     "data": {
      "text/plain": [
       "'20.345 '"
      ]
     },
     "execution_count": 22,
     "metadata": {},
     "output_type": "execute_result"
    }
   ],
   "source": [
    "x"
   ]
  },
  {
   "cell_type": "code",
   "execution_count": 44,
   "id": "88172554",
   "metadata": {},
   "outputs": [
    {
     "data": {
      "text/plain": [
       "3.141592653589793"
      ]
     },
     "execution_count": 44,
     "metadata": {},
     "output_type": "execute_result"
    }
   ],
   "source": [
    "from math import pi\n",
    "\n",
    "\n",
    "pi"
   ]
  },
  {
   "cell_type": "code",
   "execution_count": 26,
   "id": "659a8a93",
   "metadata": {},
   "outputs": [
    {
     "name": "stdout",
     "output_type": "stream",
     "text": [
      "314.159%\n"
     ]
    }
   ],
   "source": [
    "print(format(pi, \".3%\"))"
   ]
  },
  {
   "cell_type": "code",
   "execution_count": 28,
   "id": "0309ee47",
   "metadata": {},
   "outputs": [
    {
     "data": {
      "text/plain": [
       "float"
      ]
     },
     "execution_count": 28,
     "metadata": {},
     "output_type": "execute_result"
    }
   ],
   "source": [
    "type(pi)"
   ]
  },
  {
   "cell_type": "code",
   "execution_count": null,
   "id": "97352ce8",
   "metadata": {},
   "outputs": [],
   "source": [
    "# Specifier Format\n",
    "# 10.2f ---> floating point number with precision 2 and width 10.\n",
    "# <10.2f ---> Left Justify the floating point number.\n",
    "# >10.2f ---> Right Justify the formatted item.\n",
    "# 10X ---> Format integer in hexadecimal with width 10\n",
    "# 20s ---> Format String with width 20\n",
    "# 10.2% ---> Format the number in decimal"
   ]
  },
  {
   "cell_type": "code",
   "execution_count": 36,
   "id": "19cb659e",
   "metadata": {},
   "outputs": [
    {
     "name": "stdout",
     "output_type": "stream",
     "text": [
      "       158\n"
     ]
    }
   ],
   "source": [
    "val = 344\n",
    "print(format(val, \"10X\"))"
   ]
  },
  {
   "cell_type": "code",
   "execution_count": 38,
   "id": "9f5cd5fd",
   "metadata": {},
   "outputs": [
    {
     "name": "stdout",
     "output_type": "stream",
     "text": [
      "characters\n"
     ]
    },
    {
     "data": {
      "text/plain": [
       "10"
      ]
     },
     "execution_count": 38,
     "metadata": {},
     "output_type": "execute_result"
    }
   ],
   "source": [
    "characters = \"characters\"\n",
    "print(format(characters, \"5s\"))\n",
    "len(characters)"
   ]
  },
  {
   "cell_type": "code",
   "execution_count": 40,
   "id": "219c1646",
   "metadata": {},
   "outputs": [],
   "source": [
    "# Python Inbuilt Function"
   ]
  },
  {
   "cell_type": "code",
   "execution_count": 47,
   "id": "c06dce01",
   "metadata": {},
   "outputs": [],
   "source": [
    "# ceil(x) ----> Round X to nearest integer and returns that integer.\n",
    "# floor(x) ----> Returns the largest value not greater than X\n",
    "# exp(x) ----> Returns the exponential value for e^x\n",
    "# log(x) ----> Returns the natural logarithmic of x (to base e)\n",
    "# log(x, base) ----> Returns the logarithmic of x to the given base\n",
    "# sqrt(x) ----> Return the square root of x\n",
    "# Sin(x) ----> Return the sin of X, where X is the value in radians\n",
    "# asin(x) ----> Return the angle in radians for the inverse of sine\n",
    "# cos(x) ----> Return the sin of X, where X is the value in radians\n",
    "# aCos(x) ----> Return the angle in radians for the inverse of cosine\n",
    "# tan(x) ----> Return the tangent of X, where X is the value in radians\n",
    "# degress(x) ----> Convert angle X from to radians to degrees\n",
    "# Radians(x) ----> Convert angle X from to radians to degrees"
   ]
  },
  {
   "cell_type": "code",
   "execution_count": 54,
   "id": "36b53e65",
   "metadata": {},
   "outputs": [
    {
     "name": "stdout",
     "output_type": "stream",
     "text": [
      "11\n",
      "10\n",
      "7.38905609893065\n",
      "7.389\n",
      "0.9932517730102834\n",
      "0\n",
      "1\n"
     ]
    }
   ],
   "source": [
    "import math\n",
    "\n",
    "print(math.ceil(10.23))\n",
    "print(math.floor(10.23))\n",
    "print(math.exp(2))\n",
    "print(format(math.exp(2), \".3f\"))\n",
    "print(math.log(2.7))\n",
    "print(math.floor(math.log(2.7)))\n",
    "print(math.ceil(math.log(2.7)))"
   ]
  },
  {
   "cell_type": "code",
   "execution_count": 56,
   "id": "d2940248",
   "metadata": {},
   "outputs": [],
   "source": [
    "# ord and chr functions"
   ]
  },
  {
   "cell_type": "code",
   "execution_count": 57,
   "id": "159d2f64",
   "metadata": {},
   "outputs": [],
   "source": [
    "# \"ord\" return the ASCII value of a character\n",
    "# \"chr\" return the character of ASCII value"
   ]
  },
  {
   "cell_type": "code",
   "execution_count": 59,
   "id": "5a81759a",
   "metadata": {},
   "outputs": [
    {
     "data": {
      "text/plain": [
       "65"
      ]
     },
     "execution_count": 59,
     "metadata": {},
     "output_type": "execute_result"
    }
   ],
   "source": [
    "ord(\"A\")"
   ]
  },
  {
   "cell_type": "code",
   "execution_count": 61,
   "id": "78bbeea7",
   "metadata": {},
   "outputs": [
    {
     "data": {
      "text/plain": [
       "'A'"
      ]
     },
     "execution_count": 61,
     "metadata": {},
     "output_type": "execute_result"
    }
   ],
   "source": [
    "chr(65)"
   ]
  },
  {
   "cell_type": "code",
   "execution_count": null,
   "id": "46314abe",
   "metadata": {},
   "outputs": [],
   "source": [
    "# Summary\n",
    "\n",
    "# 1. Python breaks each statement into a sequence of lexical components called tokens.\n",
    "# 2.Literals are numbers, strings or characters that appear directly in a program.\n",
    "# 3.Python offers an inbuilt method called type to know the exact type of any value.\n",
    "# 4.Keywords are reserved words.\n",
    "# 5.Keywords cannot be used as identifiers or variables. An identifier is a name used to identify a variable, function, class or other objects.\n",
    "# 6.Everything in Python is an object.\n",
    "# 7.The int function converts a string or a number into a whole number or integer.\n",
    "# 8.The float function converts a string into a floating-point number.\n",
    "# 9.The Boolean data type is represented in Python as of type bool.\n",
    "# 10.print function is used to display contents on the screen.\n",
    "# 11.input() function is used to accept input from the user.\n",
    "# 12.format() function can be used to return a formatted string.\n",
    "# 13. Python Tokens: keywords, identifiers/Variables, Operators, Delimiters, literals\n",
    "# 14. Interger Literal: 18, Floating Point Literal: 21.98, \"Q\" : Character literal, \"Hello\": String Literal\n",
    "# 15. keywords: and, as, assert, break, class, continue, def, del, elif, else, except, False, finally, for, from, global, if, import, in, is, lambda, None, nonlocal, not, or, pass, raise, return,\n",
    "# True, try, while, with, yield\n",
    "# 16. Operators: + - * / // % ** ---> Arithmetic Operator == != <> <= >= ---> Relational Operator and not or ---> Logical Operator & | ~ ^ << >> ---> Bitwise Operator\n",
    "# 17. Delimiter: Delimiters are symbols that perform a special role in Python like grouping, punctuation and assignment. Python uses the following symbols and symbol combinations\n",
    "# as delimiters. ( ) [ ] { } , : . ‘ = ; += -= *= /= //= %= &= |= ^= >>= <<= **=\n",
    "# 18. Identifier: • Is a sequence of characters that consists of letters, digits and underscore • Can be of any length • Starts with a letter which can be either lower or upper case • Can start with an underscore ‘_’ • Cannot start with a digit • Cannot be a keyword. Some examples of valid identifiers are Name, Roll_NO, A1, _Address etc."
   ]
  },
  {
   "cell_type": "code",
   "execution_count": null,
   "id": "c1a6a553",
   "metadata": {},
   "outputs": [],
   "source": [
    "# Tokens and Language Structure\n",
    "\n",
    "# Python operates by breaking down your code into **tokens** - the smallest meaningful units of the language. Think of tokens as the \"words\" in Python's vocabulary. These tokens fall into five main categories: keywords, identifiers/variables, operators, delimiters, and literals. Understanding this tokenization process helps explain how Python interprets and executes your code.\n",
    "\n",
    "# Literals and Data Types\n",
    "\n",
    "# **Literals** are the actual values you write directly in your code - like the number `18`, the decimal `21.98`, or the string `\"Hello\"`. Python provides built-in functions to work with different data types: `int()` converts values to whole numbers, `float()` handles decimal numbers, and `bool` represents True/False values. The `type()` function is particularly useful for debugging, as it tells you exactly what kind of data you're working with.\n",
    "\n",
    "# Keywords and Identifiers\n",
    "\n",
    "# **Keywords** are Python's reserved words that have special meanings - like `if`, `for`, `def`, `class`, and `return`. These cannot be used as variable names because they're part of Python's core syntax. **Identifiers**, on the other hand, are the names you create for variables, functions, and classes. They must start with a letter or underscore, can contain letters, digits, and underscores, but cannot start with a digit or be a keyword.\n",
    "\n",
    "# Operators and Delimiters\n",
    "\n",
    "# Python includes various **operators** for different operations: arithmetic operators (`+`, `-`, `*`, `/`) for math, relational operators (`==`, `!=`, `<`, `>`) for comparisons, logical operators (`and`, `or`, `not`) for boolean logic, and bitwise operators for low-level operations. **Delimiters** are the punctuation marks that structure your code - parentheses for function calls, brackets for lists, braces for dictionaries, and various assignment operators like `+=` and `-=`.\n",
    "\n",
    "# Core Functions\n",
    "\n",
    "# Essential built-in functions: `print()` displays output to the screen, `input()` accepts user input as strings, and `format()` creates formatted strings. These functions form the foundation for user interaction in Python programs.\n",
    "\n",
    "# Everything is an Object\n",
    "\n",
    "# A crucial concept mentioned is that \"everything in Python is an object.\" This means that numbers, strings, functions, and even data types themselves are objects with methods and attributes. This object-oriented nature makes Python flexible and powerful, allowing you to treat different types of data in consistent ways."
   ]
  },
  {
   "cell_type": "code",
   "execution_count": 64,
   "id": "38936632",
   "metadata": {},
   "outputs": [
    {
     "data": {
      "text/plain": [
       "(15, 5, 10)"
      ]
     },
     "execution_count": 64,
     "metadata": {},
     "output_type": "execute_result"
    }
   ],
   "source": [
    "# Excercises\n",
    "\n",
    "a, b, c = 5, 10, 15\n",
    "a, b, c = c, a, b\n",
    "a, b, c"
   ]
  },
  {
   "cell_type": "code",
   "execution_count": null,
   "id": "05d5f7b1",
   "metadata": {},
   "outputs": [
    {
     "name": "stdout",
     "output_type": "stream",
     "text": [
      "Name: Name | Age: 95 | Height: 56.25\n"
     ]
    }
   ],
   "source": [
    "try:\n",
    "    age = int(input(\"Enter your age: \"))\n",
    "    height = float(input(\"Enter your height: \"))\n",
    "    name = input(\"Enter your name: \")\n",
    "\n",
    "    print(f\"Name: {name} | Age: {age} | Height: {height}\")\n",
    "\n",
    "except ValueError:\n",
    "    print(\"Invalid error!\")"
   ]
  },
  {
   "cell_type": "code",
   "execution_count": null,
   "id": "b0b9771d",
   "metadata": {},
   "outputs": [
    {
     "name": "stdout",
     "output_type": "stream",
     "text": [
      "Product: Laptop          | Price: $ 1234.57 | Quantity:   5\n",
      "Product: Laptop          | Price: $ 1234.57 | Qty:   5\n",
      "Total: $6172.84\n"
     ]
    }
   ],
   "source": [
    "price = 1234.5678\n",
    "product = \"Laptop\"\n",
    "quantity = 5\n",
    "\n",
    "print(f\"Product: {product:<15} | Price: ${price:>8.2f} | Quantity: {quantity:>3}\")\n",
    "print(\n",
    "    \"Product: {:<15} | Price: ${:>8.2f} | Qty: {:>3}\".format(product, price, quantity)\n",
    ")\n",
    "print(\"Total: ${:.2f}\".format(price * quantity))"
   ]
  },
  {
   "cell_type": "code",
   "execution_count": null,
   "id": "a1367eeb",
   "metadata": {},
   "outputs": [
    {
     "name": "stdout",
     "output_type": "stream",
     "text": [
      "Decimeal: 255 | Binary: 11111111 | Octal: 377 | Hexadecimel: FF\n"
     ]
    }
   ],
   "source": [
    "num = 255\n",
    "print(\n",
    "    f\"Decimeal: {num} | Binary: {format(num, 'b')} | Octal: {format(num, 'o')} | Hexadecimel: {format(num, 'X')}\"\n",
    ")"
   ]
  },
  {
   "cell_type": "code",
   "execution_count": null,
   "id": "ed0e4edb",
   "metadata": {},
   "outputs": [
    {
     "name": "stdout",
     "output_type": "stream",
     "text": [
      "Character: A | ASCII code: 65\n",
      "Character: B | ASCII code: 66\n",
      "Character: C | ASCII code: 67\n",
      "Character: D | ASCII code: 68\n",
      "Character: E | ASCII code: 69\n",
      "Character: F | ASCII code: 70\n"
     ]
    }
   ],
   "source": [
    "ascii_code = ord(\"A\")\n",
    "end_code = ascii_code + 6\n",
    "# ascii\n",
    "\n",
    "while ascii_code < end_code:\n",
    "    print(f\"Character: {chr(ascii_code)} | ASCII code: {ascii_code}\")\n",
    "\n",
    "    ascii_code += 1"
   ]
  },
  {
   "cell_type": "code",
   "execution_count": 15,
   "id": "8b8174e3",
   "metadata": {},
   "outputs": [
    {
     "name": "stdout",
     "output_type": "stream",
     "text": [
      "Character: A | ASCII code: 65\n",
      "Character: B | ASCII code: 66\n",
      "Character: C | ASCII code: 67\n",
      "Character: D | ASCII code: 68\n",
      "Character: E | ASCII code: 69\n",
      "Character: F | ASCII code: 70\n"
     ]
    }
   ],
   "source": [
    "ascii_code = ord(\"A\")\n",
    "end_code = ascii_code + 6\n",
    "\n",
    "for code in range(ascii_code, end_code):\n",
    "    print(f\"Character: {chr(code)} | ASCII code: {code}\")"
   ]
  },
  {
   "cell_type": "code",
   "execution_count": 18,
   "id": "3b22b52f",
   "metadata": {},
   "outputs": [
    {
     "name": "stdout",
     "output_type": "stream",
     "text": [
      "City name: jf | Variable name: A\n",
      "City name: jfj | Variable name: B\n",
      "City name: fjfj | Variable name: C\n",
      "City name: fjfj | Variable name: D\n",
      "City name: fjjf | Variable name: E\n",
      "City name: fjfjf | Variable name: F\n"
     ]
    }
   ],
   "source": [
    "site_name = chr(65)\n",
    "end_site = chr(ord(site_name) + 6)\n",
    "\n",
    "for site in range(ord(site_name), ord(end_site)):\n",
    "    city = chr(site)\n",
    "    city = input(\"Enter a city name: \")\n",
    "    print(f\"City name: {city} | Variable name: {chr(site)}\")"
   ]
  },
  {
   "cell_type": "code",
   "execution_count": 31,
   "id": "7f90cf96",
   "metadata": {},
   "outputs": [
    {
     "name": "stdout",
     "output_type": "stream",
     "text": [
      "Value before conversion: 3 | Type: <class 'str'>\n",
      "Value after conversion: 3 | Type: <class 'int'>\n"
     ]
    }
   ],
   "source": [
    "val = input(\"Enter a number: \")\n",
    "print(f\"Value before conversion: {val} | Type: {type(val)}\")\n",
    "val = int(val)\n",
    "print(f\"Value after conversion: {val} | Type: {type(val)}\")"
   ]
  },
  {
   "cell_type": "code",
   "execution_count": 35,
   "id": "f6382259",
   "metadata": {},
   "outputs": [
    {
     "data": {
      "text/plain": [
       "'HELLO WOLRD'"
      ]
     },
     "execution_count": 35,
     "metadata": {},
     "output_type": "execute_result"
    }
   ],
   "source": [
    "str1 = \"hello wolrd\"\n",
    "str1.upper()"
   ]
  },
  {
   "cell_type": "code",
   "execution_count": null,
   "id": "0b70ea69",
   "metadata": {},
   "outputs": [],
   "source": []
  }
 ],
 "metadata": {
  "kernelspec": {
   "display_name": "phitron-ai-ml",
   "language": "python",
   "name": "python3"
  },
  "language_info": {
   "codemirror_mode": {
    "name": "ipython",
    "version": 3
   },
   "file_extension": ".py",
   "mimetype": "text/x-python",
   "name": "python",
   "nbconvert_exporter": "python",
   "pygments_lexer": "ipython3",
   "version": "3.14.0"
  }
 },
 "nbformat": 4,
 "nbformat_minor": 5
}
