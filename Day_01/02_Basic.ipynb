{
 "cells": [
  {
   "cell_type": "code",
   "execution_count": null,
   "id": "ecee495c",
   "metadata": {},
   "outputs": [
    {
     "name": "stdout",
     "output_type": "stream",
     "text": [
      "Radius of the circle: 45 | Area: 6361.725123519331 | Data Type: True\n"
     ]
    }
   ],
   "source": [
    "from math import pi\n",
    "\n",
    "radius = eval(input(\"Enter the radius of the circle: \"))\n",
    "if radius > 0:\n",
    "    area = pi * (radius**2)\n",
    "    print(\n",
    "        f\"Radius of the circle: {radius} | Area: {area} | Data Type: {isinstance(radius, int)}\"\n",
    "    )\n",
    "elif radius == 0:\n",
    "    print(\"A circle with radius 0 has no area.\")\n",
    "else:\n",
    "    print(\"Error: Radius cannot be negative!\")"
   ]
  },
  {
   "cell_type": "code",
   "execution_count": null,
   "id": "2c879804",
   "metadata": {},
   "outputs": [
    {
     "name": "stdout",
     "output_type": "stream",
     "text": [
      "Which operation you want? | (1) Addition | (2) Substraction | (3) Multiflication | (4) Division\n",
      "Wrong input!!!\n"
     ]
    }
   ],
   "source": [
    "# Simple Calculator\n",
    "\n",
    "first_number = eval(input(\"Enter the first number: \"))\n",
    "second_number = eval(input(\"Enter the second number: \"))\n",
    "\n",
    "print(\n",
    "    f\"Which operation you want? | (1) Addition | (2) Substraction | (3) Multiflication | (4) Division\"\n",
    ")\n",
    "choice = eval(input(\"Give your choice: \"))\n",
    "\n",
    "if choice == 1:\n",
    "    add = first_number + second_number\n",
    "    print(\n",
    "        f\"First number is: {first_number} | Second number is: {second_number} | Addition: {first_number + second_number}\"\n",
    "    )\n",
    "elif choice == 2:\n",
    "    sub = first_number - second_number\n",
    "    print(\n",
    "        f\"First number is: {first_number} | Second number is: {second_number} | Substraction: {first_number - second_number}\"\n",
    "    )\n",
    "elif choice == 3:\n",
    "    mul = first_number * second_number\n",
    "    print(\n",
    "        f\"First number is: {first_number} | Second number is: {second_number} | Multiplication: {first_number * second_number}\"\n",
    "    )\n",
    "elif choice == 4:\n",
    "    if second_number > 0:\n",
    "        div = first_number / second_number\n",
    "        print(\n",
    "            f\"First number is: {first_number} | Second number is: {second_number} | Division: {first_number / second_number}\"\n",
    "        )\n",
    "    else:\n",
    "        print(\"Denomenator can't be zero\")\n",
    "else:\n",
    "    print(\"Wrong input!!!\")"
   ]
  },
  {
   "cell_type": "code",
   "execution_count": 27,
   "id": "e6bdd8f5",
   "metadata": {},
   "outputs": [
    {
     "name": "stdout",
     "output_type": "stream",
     "text": [
      "6 is not a prime number\n"
     ]
    }
   ],
   "source": [
    "# Simple Prime Number Checker\n",
    "from math import sqrt\n",
    "\n",
    "val = eval(input(\"Enter a number: \"))\n",
    "flag = 0\n",
    "\n",
    "if val <= 1:\n",
    "    print(\"Enter number more than 1\")\n",
    "\n",
    "for i in range(2, int(sqrt(val)) + 1):\n",
    "    if val % i == 0:\n",
    "        flag = 1\n",
    "\n",
    "if flag == 0:\n",
    "    print(f\"{val} is a prime number\")\n",
    "else:\n",
    "    print(f\"{val} is not a prime number\")"
   ]
  }
 ],
 "metadata": {
  "kernelspec": {
   "display_name": "phitron-ai-ml",
   "language": "python",
   "name": "python3"
  },
  "language_info": {
   "codemirror_mode": {
    "name": "ipython",
    "version": 3
   },
   "file_extension": ".py",
   "mimetype": "text/x-python",
   "name": "python",
   "nbconvert_exporter": "python",
   "pygments_lexer": "ipython3",
   "version": "3.14.0"
  }
 },
 "nbformat": 4,
 "nbformat_minor": 5
}
